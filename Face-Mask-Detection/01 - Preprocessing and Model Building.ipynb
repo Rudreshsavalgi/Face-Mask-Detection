{
 "cells": [
  {
   "cell_type": "markdown",
   "metadata": {},
   "source": [
    "### Importing the libraries"
   ]
  },
  {
   "cell_type": "code",
   "execution_count": 1,
   "metadata": {
    "colab": {},
    "colab_type": "code",
    "id": "VbGtBB2JYxC4"
   },
   "outputs": [],
   "source": [
    "import numpy as np\n",
    "import cv2\n",
    "import matplotlib.pyplot as plt\n",
    "import os\n",
    "\n",
    "import tensorflow as tf\n",
    "from tensorflow.keras.models import Sequential\n",
    "from tensorflow.keras.layers import Conv2D,BatchNormalization,MaxPooling2D,Flatten,Dense,Dropout"
   ]
  },
  {
   "cell_type": "code",
   "execution_count": 2,
   "metadata": {
    "colab": {},
    "colab_type": "code",
    "id": "hEjlaxdDbebG"
   },
   "outputs": [],
   "source": [
    "# path to your dataset\n",
    "path = 'data'"
   ]
  },
  {
   "cell_type": "code",
   "execution_count": 3,
   "metadata": {
    "colab": {
     "base_uri": "https://localhost:8080/",
     "height": 34
    },
    "colab_type": "code",
    "id": "mhCWrLqqb0il",
    "outputId": "6420a101-a8fc-4564-99dc-d81ba208888e"
   },
   "outputs": [
    {
     "data": {
      "text/plain": [
       "['without_mask', 'with_mask']"
      ]
     },
     "execution_count": 3,
     "metadata": {},
     "output_type": "execute_result"
    }
   ],
   "source": [
    "folders = os.listdir(path)\n",
    "folders"
   ]
  },
  {
   "cell_type": "markdown",
   "metadata": {},
   "source": [
    "### Loading the images and labeling them"
   ]
  },
  {
   "cell_type": "code",
   "execution_count": 4,
   "metadata": {
    "colab": {
     "base_uri": "https://localhost:8080/",
     "height": 52
    },
    "colab_type": "code",
    "id": "jyWmcPENcBvm",
    "outputId": "f8d0b5d1-6608-4b1b-f2d4-56255bfaa14b",
    "scrolled": true
   },
   "outputs": [
    {
     "name": "stdout",
     "output_type": "stream",
     "text": [
      "folder_name = without_mask and no of images = 686\n",
      "folder_name = with_mask and no of images = 690\n"
     ]
    }
   ],
   "source": [
    "#initializations\n",
    "data = []\n",
    "#looping through all the folders\n",
    "for folder in folders: \n",
    "    new_path = os.path.join(path,folder)\n",
    "    total = len(os.listdir(new_path))\n",
    "    label = folders.index(folder)\n",
    "    print('folder_name = {} and no of images = {}'.format(folder,total))\n",
    "    for img in os.listdir(new_path):#loop through all the images in that folder\n",
    "    #read the images one by one\n",
    "        try:\n",
    "            img = cv2.imread( os.path.join(new_path,img),0) #grayscale\n",
    "            img = cv2.resize(img,(100,100)) #check here once\n",
    "            data.append([img,label])\n",
    "        except Exception as e:\n",
    "            print('Exception ',e)"
   ]
  },
  {
   "cell_type": "markdown",
   "metadata": {},
   "source": [
    "### Shuffling the images randomly\n",
    "* As we have loaded the images sequentially, it is better to shuffle the images randomly."
   ]
  },
  {
   "cell_type": "code",
   "execution_count": 5,
   "metadata": {
    "colab": {},
    "colab_type": "code",
    "id": "EMfgLHPI26Xa"
   },
   "outputs": [],
   "source": [
    "#shuffle the data in place\n",
    "import random\n",
    "random.shuffle(data)"
   ]
  },
  {
   "cell_type": "code",
   "execution_count": 6,
   "metadata": {
    "colab": {},
    "colab_type": "code",
    "id": "n6i1MCp13HIF"
   },
   "outputs": [],
   "source": [
    "#seperating images are labels after shuffling\n",
    "images = []\n",
    "labels = []\n",
    "for image,label in data:\n",
    "    images.append(image)\n",
    "    labels.append(label)"
   ]
  },
  {
   "cell_type": "code",
   "execution_count": 7,
   "metadata": {
    "colab": {},
    "colab_type": "code",
    "id": "C9HrLjstfsKn"
   },
   "outputs": [],
   "source": [
    "#normalizing the images \n",
    "images = np.array(images)/255\n",
    "labels = np.array(labels)"
   ]
  },
  {
   "cell_type": "code",
   "execution_count": 8,
   "metadata": {
    "colab": {
     "base_uri": "https://localhost:8080/",
     "height": 34
    },
    "colab_type": "code",
    "id": "RnQYKdgcj6q7",
    "outputId": "480ab760-e0ce-4dc4-c09e-a157bdb5ed17"
   },
   "outputs": [
    {
     "data": {
      "text/plain": [
       "(1376, 100, 100)"
      ]
     },
     "execution_count": 8,
     "metadata": {},
     "output_type": "execute_result"
    }
   ],
   "source": [
    "images.shape"
   ]
  },
  {
   "cell_type": "code",
   "execution_count": 9,
   "metadata": {
    "colab": {},
    "colab_type": "code",
    "id": "oq8bQAIvj8gX"
   },
   "outputs": [],
   "source": [
    "#converting to 4D \n",
    "images = np.expand_dims(images,axis = 3)"
   ]
  },
  {
   "cell_type": "code",
   "execution_count": 10,
   "metadata": {
    "colab": {
     "base_uri": "https://localhost:8080/",
     "height": 34
    },
    "colab_type": "code",
    "id": "btdKMMHLkz3Q",
    "outputId": "caa8acb6-1cdb-43ff-acb1-c85368a81b5f"
   },
   "outputs": [
    {
     "data": {
      "text/plain": [
       "(1376, 100, 100, 1)"
      ]
     },
     "execution_count": 10,
     "metadata": {},
     "output_type": "execute_result"
    }
   ],
   "source": [
    "images.shape"
   ]
  },
  {
   "cell_type": "code",
   "execution_count": 11,
   "metadata": {
    "colab": {},
    "colab_type": "code",
    "id": "igPy8W4cpN6b"
   },
   "outputs": [],
   "source": [
    "# seperating train and test dataset\n",
    "from sklearn.model_selection import train_test_split\n",
    "X_train,X_test,y_train,y_test = train_test_split(images,labels,test_size = 0.1,random_state = 0)"
   ]
  },
  {
   "cell_type": "markdown",
   "metadata": {},
   "source": [
    "### Model Building"
   ]
  },
  {
   "cell_type": "code",
   "execution_count": 12,
   "metadata": {
    "colab": {},
    "colab_type": "code",
    "id": "2vh1fy3zm9SE"
   },
   "outputs": [],
   "source": [
    "#initializing the model\n",
    "model=Sequential()\n",
    "\n",
    "#The first CNN layer followed by Relu and MaxPooling layers\n",
    "model.add(Conv2D(200,(3,3),activation = 'relu',input_shape=images.shape[1:]))\n",
    "model.add(MaxPooling2D())\n",
    "\n",
    "#The second convolution layer followed by Relu and MaxPooling layers\n",
    "model.add(Conv2D(100,(3,3),activation = 'relu'))\n",
    "model.add(MaxPooling2D())\n",
    "\n",
    "#Flattening \n",
    "model.add(Flatten())\n",
    "\n",
    "#Adding dropout to avoid overfitting\n",
    "model.add(Dropout(0.5))\n",
    "\n",
    "#Dense Layer of 50 neurons\n",
    "model.add(Dense(50,activation='relu'))\n",
    "\n",
    "#Output layer\n",
    "model.add(Dense(1,activation='sigmoid'))"
   ]
  },
  {
   "cell_type": "code",
   "execution_count": 13,
   "metadata": {
    "colab": {
     "base_uri": "https://localhost:8080/",
     "height": 439
    },
    "colab_type": "code",
    "id": "SGxi8dcIn-b-",
    "outputId": "3734da6d-6c3a-4f97-e54e-247ab6cfdb6c"
   },
   "outputs": [
    {
     "name": "stdout",
     "output_type": "stream",
     "text": [
      "Model: \"sequential\"\n",
      "_________________________________________________________________\n",
      "Layer (type)                 Output Shape              Param #   \n",
      "=================================================================\n",
      "conv2d (Conv2D)              (None, 98, 98, 200)       2000      \n",
      "_________________________________________________________________\n",
      "max_pooling2d (MaxPooling2D) (None, 49, 49, 200)       0         \n",
      "_________________________________________________________________\n",
      "conv2d_1 (Conv2D)            (None, 47, 47, 100)       180100    \n",
      "_________________________________________________________________\n",
      "max_pooling2d_1 (MaxPooling2 (None, 23, 23, 100)       0         \n",
      "_________________________________________________________________\n",
      "flatten (Flatten)            (None, 52900)             0         \n",
      "_________________________________________________________________\n",
      "dropout (Dropout)            (None, 52900)             0         \n",
      "_________________________________________________________________\n",
      "dense (Dense)                (None, 50)                2645050   \n",
      "_________________________________________________________________\n",
      "dense_1 (Dense)              (None, 1)                 51        \n",
      "=================================================================\n",
      "Total params: 2,827,201\n",
      "Trainable params: 2,827,201\n",
      "Non-trainable params: 0\n",
      "_________________________________________________________________\n"
     ]
    }
   ],
   "source": [
    "#summary\n",
    "model.summary()"
   ]
  },
  {
   "cell_type": "code",
   "execution_count": 14,
   "metadata": {
    "colab": {},
    "colab_type": "code",
    "id": "o1xahe4jn_u2"
   },
   "outputs": [],
   "source": [
    "model.compile(optimizer='adam',loss = 'binary_crossentropy',metrics = ['accuracy'])"
   ]
  },
  {
   "cell_type": "markdown",
   "metadata": {},
   "source": [
    "### Model Training and Evaluation"
   ]
  },
  {
   "cell_type": "code",
   "execution_count": 15,
   "metadata": {
    "colab": {
     "base_uri": "https://localhost:8080/",
     "height": 388
    },
    "colab_type": "code",
    "id": "OoPNeUYnpLp5",
    "outputId": "669bd079-984a-43fe-8bf5-b32a1f57f824",
    "scrolled": true
   },
   "outputs": [
    {
     "name": "stdout",
     "output_type": "stream",
     "text": [
      "Epoch 1/10\n",
      "39/39 [==============================] - 56s 1s/step - loss: 0.6773 - accuracy: 0.5541 - val_loss: 0.4926 - val_accuracy: 0.8188\n",
      "Epoch 2/10\n",
      "39/39 [==============================] - 56s 1s/step - loss: 0.4693 - accuracy: 0.7843 - val_loss: 0.2584 - val_accuracy: 0.9130\n",
      "Epoch 3/10\n",
      "39/39 [==============================] - 55s 1s/step - loss: 0.3069 - accuracy: 0.8845 - val_loss: 0.1789 - val_accuracy: 0.9565\n",
      "Epoch 4/10\n",
      "39/39 [==============================] - 55s 1s/step - loss: 0.2302 - accuracy: 0.9168 - val_loss: 0.1405 - val_accuracy: 0.9493\n",
      "Epoch 5/10\n",
      "39/39 [==============================] - 55s 1s/step - loss: 0.1351 - accuracy: 0.9548 - val_loss: 0.0815 - val_accuracy: 0.9855\n",
      "Epoch 6/10\n",
      "39/39 [==============================] - 54s 1s/step - loss: 0.0898 - accuracy: 0.9661 - val_loss: 0.0606 - val_accuracy: 0.9710\n",
      "Epoch 7/10\n",
      "39/39 [==============================] - 55s 1s/step - loss: 0.0645 - accuracy: 0.9782 - val_loss: 0.2034 - val_accuracy: 0.9203\n",
      "Epoch 8/10\n",
      "39/39 [==============================] - 54s 1s/step - loss: 0.0647 - accuracy: 0.9790 - val_loss: 0.0594 - val_accuracy: 0.9783\n",
      "Epoch 9/10\n",
      "39/39 [==============================] - 54s 1s/step - loss: 0.0644 - accuracy: 0.9774 - val_loss: 0.0506 - val_accuracy: 0.9710\n",
      "Epoch 10/10\n",
      "39/39 [==============================] - 54s 1s/step - loss: 0.0405 - accuracy: 0.9871 - val_loss: 0.0528 - val_accuracy: 0.9855\n"
     ]
    }
   ],
   "source": [
    "# BATCH_SIZE = 32\n",
    "EPOCHS = 10\n",
    "history=model.fit(X_train,y_train,epochs=EPOCHS, validation_data = (X_test,y_test)) #,callbacks=[checkpoint]"
   ]
  },
  {
   "cell_type": "markdown",
   "metadata": {},
   "source": [
    "### Save the model"
   ]
  },
  {
   "cell_type": "code",
   "execution_count": 16,
   "metadata": {},
   "outputs": [],
   "source": [
    "model_name = 'model.h5'\n",
    "path = 'C:/Users/Rudresh Savalgi/Desktop/Face-Mask-Detection' + '/' + model_name\n",
    "#save the model\n",
    "model.save('C:/Users/Rudresh Savalgi/Desktop/Face-Mask-Detection/model.h5')"
   ]
  },
  {
   "cell_type": "code",
   "execution_count": null,
   "metadata": {},
   "outputs": [],
   "source": []
  }
 ],
 "metadata": {
  "colab": {
   "collapsed_sections": [],
   "name": "Face-Mask-Detection.ipynb",
   "provenance": []
  },
  "kernelspec": {
   "display_name": "Python 3",
   "language": "python",
   "name": "python3"
  },
  "language_info": {
   "codemirror_mode": {
    "name": "ipython",
    "version": 3
   },
   "file_extension": ".py",
   "mimetype": "text/x-python",
   "name": "python",
   "nbconvert_exporter": "python",
   "pygments_lexer": "ipython3",
   "version": "3.6.10"
  }
 },
 "nbformat": 4,
 "nbformat_minor": 1
}
